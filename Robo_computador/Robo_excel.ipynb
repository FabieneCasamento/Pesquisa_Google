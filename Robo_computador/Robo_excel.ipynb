{
 "cells": [
  {
   "cell_type": "code",
   "execution_count": 20,
   "id": "beeea7b8-e39d-412a-a736-7228bc55ff9c",
   "metadata": {},
   "outputs": [],
   "source": [
    "#usando a classe como Class_Robozinho.py\n",
    "from Class_Robozinho import MeuRobo\n",
    "import pyautogui\n",
    "import pyperclip\n",
    "import time\n"
   ]
  },
  {
   "cell_type": "code",
   "execution_count": 21,
   "id": "1d54672a-7f9a-4ef2-bb65-150dae50c992",
   "metadata": {},
   "outputs": [],
   "source": [
    "robo_excel = MeuRobo(3)\n",
    "#aviso do alerta\n",
    "robo_excel.alertaInicial_computador()\n",
    "#excel windows e linux LibreOffice Calc\n",
    "robo_excel.abrir_programa('LibreOffice Calc')\n",
    "\n",
    "# aguardarclasse\n",
    "robo_excel.aguardar()\n",
    "robo_excel.aguardar()\n",
    "robo_excel.aguardar()\n",
    "\n",
    "#linha 5\n",
    "robo_excel.clicar(77,257)\n",
    "pyautogui.write('=2+2') \n",
    "pyautogui.press(\"enter\")\n",
    "#linha1\n",
    "robo_excel.clicar(90, 199)\n",
    "\n",
    "# aguardarclasse\n",
    "robo_excel.aguardar()\n",
    "robo_excel.aguardar()\n",
    "robo_excel.clicar(77,257)\n",
    "\n",
    "# aguardarclasse\n",
    "robo_excel.aguardar()\n",
    "robo_excel.aguardar()\n",
    "robo_excel.aguardar()\n",
    "\n",
    "\n",
    "#fechar a página\n",
    "robo_excel.clicar(1006, 17)\n",
    "\n",
    "robo_excel.alertaFinal_computador()"
   ]
  },
  {
   "cell_type": "code",
   "execution_count": 22,
   "id": "76f0b31f-a3d7-4835-8209-1aa8be3d9aaf",
   "metadata": {},
   "outputs": [
    {
     "name": "stdout",
     "output_type": "stream",
     "text": [
      "pegando posição em 5 segundos\n",
      "pegando posição em 4 segundos\n",
      "pegando posição em 3 segundos\n",
      "pegando posição em 2 segundos\n",
      "pegando posição em 1 segundos\n",
      "Point(x=44, y=187)\n"
     ]
    }
   ],
   "source": [
    "\n",
    "robo = MeuRobo(3)\n",
    "robo.pegar_posicao()"
   ]
  },
  {
   "cell_type": "code",
   "execution_count": null,
   "id": "902b4121-e49a-471c-8858-f28d783616aa",
   "metadata": {},
   "outputs": [],
   "source": []
  }
 ],
 "metadata": {
  "kernelspec": {
   "display_name": "Python 3 (ipykernel)",
   "language": "python",
   "name": "python3"
  },
  "language_info": {
   "codemirror_mode": {
    "name": "ipython",
    "version": 3
   },
   "file_extension": ".py",
   "mimetype": "text/x-python",
   "name": "python",
   "nbconvert_exporter": "python",
   "pygments_lexer": "ipython3",
   "version": "3.11.9"
  }
 },
 "nbformat": 4,
 "nbformat_minor": 5
}
