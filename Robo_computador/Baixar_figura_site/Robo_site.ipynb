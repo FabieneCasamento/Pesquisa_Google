{
 "cells": [
  {
   "cell_type": "code",
   "execution_count": 45,
   "id": "af0dea54-bd56-42b0-8804-cf483023ac9b",
   "metadata": {},
   "outputs": [],
   "source": [
    "#usando a classe como Class_Robozinho.py\n",
    "from Class_Robozinho2 import MeuRobo\n",
    "import pyautogui\n",
    "import pyperclip\n"
   ]
  },
  {
   "cell_type": "code",
   "execution_count": 59,
   "id": "9f367d64-59e2-448d-9fae-0c55faafb8d3",
   "metadata": {},
   "outputs": [],
   "source": [
    "site_quero= 'https://meteologix.com/br'"
   ]
  },
  {
   "cell_type": "code",
   "execution_count": 63,
   "id": "855200ae-6bf5-445d-b036-3d9663574578",
   "metadata": {},
   "outputs": [
    {
     "name": "stdout",
     "output_type": "stream",
     "text": [
      "pegando posição em 5 segundos\n",
      "pegando posição em 4 segundos\n",
      "pegando posição em 3 segundos\n",
      "pegando posição em 2 segundos\n",
      "pegando posição em 1 segundos\n",
      "Point(x=612, y=473)\n"
     ]
    }
   ],
   "source": [
    "robo_pes = MeuRobo(3)\n",
    "robo_pes.pegar_posicao()"
   ]
  },
  {
   "cell_type": "code",
   "execution_count": 65,
   "id": "26428f1c-0ee6-4728-ac34-bb8670b5ed73",
   "metadata": {},
   "outputs": [],
   "source": [
    "robo = MeuRobo(3)\n",
    "\n",
    "#aviso do alerta\n",
    "robo.alertaInicial_computador()\n",
    "\n",
    "robo.abrir_programa('Chrome')\n",
    "robo.entrar_site(site_quero)\n",
    "\n",
    "# aguardarclasse\n",
    "robo.aguardar()\n",
    "robo.clicar(344, 362, botao='left') \n",
    "# aguardarclasse\n",
    "robo.aguardar()\n",
    "\n",
    "#forecast  \n",
    "robo.clicar(108, 239, botao='left')\n",
    "#ECMWF IFS HRES 0z/12z modelo que eu quero ver\n",
    "robo.clicar(121, 561, botao='left') \n",
    "# aguardar\n",
    "robo.aguardar()\n",
    "\n",
    "#desce\n",
    "robo.rolar_pagina('desce')\n",
    "# aguardar\n",
    "robo.aguardar()\n",
    "robo.aguardar()\n",
    "\n",
    "#change map selection\n",
    "#regiao do mapa\n",
    "robo.clicar(128, 591, botao='left') \n",
    "#desce\n",
    "robo.rolar_pagina('desce')\n",
    "\n",
    "robo.aguardar()\n",
    "\n",
    "robo.clicar(221, 673, botao='left') \n",
    "\n",
    "#rolamento para ver os estados , linha \n",
    "pyautogui.scroll(-2, 316, y=409)  # move mouse cursor to 100, 200, then scroll up 10 \"clicks\"\n",
    "\n",
    "robo.aguardar()\n",
    "#cliquei no Rio Grande do Sul\n",
    "robo.clicar(252, 548, botao='left') \n",
    "\n",
    "#desce\n",
    "robo.rolar_pagina('desce')\n",
    "\n",
    "\n",
    "#change parametre\n",
    "robo.clicar(181, 476, botao='left') \n",
    "robo.aguardar()\n",
    "\n",
    "#accumulated total precipitation (mm)\n",
    "robo.clicar(196, 510, botao='left')\n",
    "\n",
    "#desce\n",
    "robo.rolar_pagina('desce')\n",
    "robo.aguardar()\n",
    "robo.aguardar()\n",
    "\n",
    "#chage date\n",
    "robo.clicar(133, 496, botao='left')\n",
    "#robo.clicar(188, 506, botao='left')\n",
    "\n",
    "robo.aguardar()\n",
    "robo.aguardar()\n",
    "robo.rolar_pagina('desce')\n",
    "robo.aguardar()\n",
    "\n",
    "#+240 horas selecionados\n",
    "robo.clicar(148, 438, botao='left')\n",
    "\n",
    "#sobe\n",
    "robo.rolar_pagina('sobe')\n",
    "robo.rolar_pagina('sobe')\n",
    "robo.rolar_pagina('sobe')\n",
    "robo.rolar_pagina('sobe')\n",
    "#salvar o arquivo, primeira parte\n",
    "robo.clicar(961, 513, botao='left')\n",
    "robo.aguardar()\n",
    "robo.rolar_pagina('desce')\n",
    "\n",
    "\n",
    "\n",
    "#salvar\n",
    "robo.clicar(612, 473, botao='left')\n",
    "robo.alertaFinal_computador()\n"
   ]
  },
  {
   "cell_type": "code",
   "execution_count": null,
   "id": "69b66b12-3452-459d-87cb-d7e53e3bbfc1",
   "metadata": {},
   "outputs": [],
   "source": [
    "\n",
    "\n"
   ]
  }
 ],
 "metadata": {
  "kernelspec": {
   "display_name": "Python 3 (ipykernel)",
   "language": "python",
   "name": "python3"
  },
  "language_info": {
   "codemirror_mode": {
    "name": "ipython",
    "version": 3
   },
   "file_extension": ".py",
   "mimetype": "text/x-python",
   "name": "python",
   "nbconvert_exporter": "python",
   "pygments_lexer": "ipython3",
   "version": "3.11.9"
  }
 },
 "nbformat": 4,
 "nbformat_minor": 5
}
