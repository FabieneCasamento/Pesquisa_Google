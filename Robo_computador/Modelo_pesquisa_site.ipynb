{
 "cells": [
  {
   "cell_type": "markdown",
   "id": "a995717e-f7cf-449f-9f2c-f90300f09b4e",
   "metadata": {},
   "source": [
    "# Automação "
   ]
  },
  {
   "cell_type": "code",
   "execution_count": 103,
   "id": "d6d68ab1-467d-473c-a3e3-26f5f8856fd1",
   "metadata": {},
   "outputs": [],
   "source": [
    "#!pip install pyautogui"
   ]
  },
  {
   "cell_type": "code",
   "execution_count": 116,
   "id": "dde1d096-a4cd-4d3c-b151-51a8aadc402b",
   "metadata": {},
   "outputs": [],
   "source": [
    "import pyautogui\n",
    "import pyperclip\n",
    "import time\n",
    "\n",
    "#pyoutogui.write() -->escreve\n",
    "#pyoutogui.click-> clica\n",
    "#pyoutogui.locateOnScreen-> identifica uma imagem na sua tela\n",
    "#pyoutogui.hotkey-> usa atalhos do teclado\n",
    "#pyoutogui.press-> aperta um botão do teclado\n",
    "\n"
   ]
  },
  {
   "cell_type": "code",
   "execution_count": 117,
   "id": "92e3f08b-afe7-441a-ad1d-b7503b86ae75",
   "metadata": {},
   "outputs": [
    {
     "name": "stdout",
     "output_type": "stream",
     "text": [
      "pegando posição em 5 segundos\n",
      "pegando posição em 4 segundos\n",
      "pegando posição em 3 segundos\n",
      "pegando posição em 2 segundos\n",
      "pegando posição em 1 segundos\n",
      "Point(x=351, y=516)\n"
     ]
    }
   ],
   "source": [
    "n_tempo=5\n",
    "\n",
    "for i in range(n_tempo):\n",
    "    print(f'pegando posição em {n_tempo-i} segundos')\n",
    "    time.sleep(1)\n",
    "print(pyautogui.position())"
   ]
  },
  {
   "cell_type": "code",
   "execution_count": 106,
   "id": "32891e84-e0a8-4b0e-b77d-6c0cc8dd1fec",
   "metadata": {},
   "outputs": [],
   "source": [
    "# fechar sempre a página "
   ]
  },
  {
   "cell_type": "code",
   "execution_count": 121,
   "id": "4c7e4046-f25b-48f2-95d0-c2632b858607",
   "metadata": {},
   "outputs": [
    {
     "name": "stdout",
     "output_type": "stream",
     "text": [
      "Noaa Satellite\n"
     ]
    }
   ],
   "source": [
    "\n",
    "#pesquisar no google\n",
    "#https://www.nhc.noaa.gov/satellite.php\n",
    "#Noaa Satellite\n",
    "\n",
    "import pyautogui\n",
    "import pyperclip\n",
    "import time\n",
    "\n",
    "pyautogui.alert('O código vai começar. Não mexa em NADA enquanto o código tiver rodando. Quando finalizar, eu te aviso')\n",
    "texto_procurando= pyautogui.prompt('Escreve o que você quer buscar no google')\n",
    "print(texto_procurando)"
   ]
  },
  {
   "cell_type": "code",
   "execution_count": 122,
   "id": "83ffcbed-a987-46e2-a1a6-1beb77a84435",
   "metadata": {},
   "outputs": [
    {
     "name": "stdout",
     "output_type": "stream",
     "text": [
      "site que eu desejo visitar:\n",
      "https://www.star.nesdis.noaa.gov/goes/index.php\n"
     ]
    }
   ],
   "source": [
    "# abrindo o chrome\n",
    "#espera 1 segundo\n",
    "pyautogui.PAUSE = 3\n",
    "pyautogui.press(\"win\")\n",
    "pyautogui.write(\"chrome\")\n",
    "pyautogui.press(\"enter\")\n",
    "\n",
    "#entrando no chrome tem que entrar no seu chrome, login\n",
    "# aguardar\n",
    "time.sleep(3)\n",
    "\n",
    "# clicando no campo de busca\n",
    "pyautogui.click(x=516, y=435)\n",
    "# aguardar\n",
    "time.sleep(2)\n",
    "\n",
    "# entrando no site do Google\n",
    "link = \"https://www.google.com.br/\"\n",
    "pyperclip.copy(link)\n",
    "pyautogui.hotkey(\"ctrl\", \"v\")\n",
    "pyautogui.press(\"enter\")\n",
    "\n",
    "\n",
    "# aguardar\n",
    "time.sleep(3)\n",
    "\n",
    "# clicando no campo de busca no google\n",
    "pyautogui.click(x=460, y=357)\n",
    "\n",
    "\n",
    "\n",
    "# pesquisando campo de busca\n",
    "pyperclip.copy(texto_procurando)\n",
    "pyautogui.hotkey(\"ctrl\", \"v\")\n",
    "pyautogui.press(\"enter\")\n",
    "\n",
    "# aguardar\n",
    "time.sleep(3)\n",
    "\n",
    "# extrair o link\n",
    "pyautogui.click(x=298, y=674, button=\"right\")\n",
    "pyautogui.press(\"up\")\n",
    "pyautogui.press(\"up\")\n",
    "pyautogui.press(\"enter\")\n",
    "\n",
    "\n",
    "# printar o texto copiado\n",
    "texto = pyperclip.paste()\n",
    "\n",
    "print('site que eu desejo visitar:')\n",
    "print(texto)\n",
    "\n"
   ]
  },
  {
   "cell_type": "code",
   "execution_count": 123,
   "id": "7c7cbff3-8050-43b2-9945-927db74f672f",
   "metadata": {},
   "outputs": [
    {
     "data": {
      "text/plain": [
       "'OK'"
      ]
     },
     "execution_count": 123,
     "metadata": {},
     "output_type": "execute_result"
    }
   ],
   "source": [
    "pyautogui.alert('O código terminou, pode pegar seu notebook de volta!')\n"
   ]
  },
  {
   "cell_type": "markdown",
   "id": "4da00b27-242a-4c7b-a524-bfb2a5ffd3d0",
   "metadata": {},
   "source": [
    "# classes pesquisa pelo google"
   ]
  },
  {
   "cell_type": "code",
   "execution_count": 130,
   "id": "dad3e445-bcdc-4662-8029-fe30214610b7",
   "metadata": {},
   "outputs": [],
   "source": [
    "import pyautogui\n",
    "import pyperclip\n",
    "import time\n",
    "\n",
    "class MeuRobo():\n",
    "    \n",
    "   def __init__(self, tempo_espera):\n",
    "       self.tempo_espera = tempo_espera\n",
    "       pyautogui.PAUSE = 1\n",
    "\n",
    "    \n",
    "   def abrir_programa(self, nome_programa):\n",
    "       pyautogui.press(\"win\")\n",
    "       pyautogui.write(nome_programa)\n",
    "       pyautogui.press(\"enter\")\n",
    "\n",
    "       if nome_programa.lower() in 'chrome':\n",
    "           #entrando no chrome tem que entrar no seu chrome, login\n",
    "           # aguardar\n",
    "           time.sleep(3)\n",
    "           pyautogui.click(x=516, y=446)\n",
    "\n",
    "   \n",
    "   def entrar_site(self, site):\n",
    "        #time.sleep(2)\n",
    "        # entrando no site \n",
    "        # pyperclip.copy(site)\n",
    "        # pyautogui.hotkey(\"ctrl\", \"v\")\n",
    "        # pyautogui.press(\"enter\")\n",
    "        #aguardar um pouco\n",
    "        self.escrever_e_enter(site)\n",
    "        self.aguardar()\n",
    "\n",
    "   def escrever_e_enter(self, texto):\n",
    "        pyperclip.copy(texto)\n",
    "        pyautogui.hotkey(\"ctrl\", \"v\")\n",
    "        pyautogui.press(\"enter\")\n",
    "       \n",
    "   def aguardar(self):\n",
    "       time.sleep(self.tempo_espera)\n",
    "\n",
    "    \n",
    "   def pesquisar_no_campo(self, texto):\n",
    "       self.escrever_e_enter(texto)\n",
    "       self.aguardar()    \n",
    "    \n",
    "   #botao padrao = left\n",
    "   def clicar(self, xa, ya, botao = 'left'):\n",
    "       #botao = right ou left\n",
    "       # clicando no campo que desejo\n",
    "       pyautogui.click(x= xa, y=ya, button = botao)\n",
    "\n",
    "   def pegar_posicao(self):\n",
    "        n_tempo=5\n",
    "        \n",
    "        for i in range(n_tempo):\n",
    "            print(f'pegando posição em {n_tempo-i} segundos')\n",
    "            time.sleep(1)\n",
    "        print(pyautogui.position())       \n",
    "\n",
    "   def extrair_link(self, x, y):\n",
    "       self.clicar(x,y, botao='right')\n",
    "       pyautogui.press(\"up\")\n",
    "       pyautogui.press(\"up\")\n",
    "       pyautogui.press(\"enter\")  \n",
    "       # printar o texto copiado\n",
    "       texto_2 = pyperclip.paste()        \n",
    "       print(texto_2)\n",
    "       self.texto_final = texto_2\n",
    "\n",
    "\n",
    "   def abrir_nova_aba(self, x, y): \n",
    "       self.clicar(x,y, botao='right')\n",
    "       pyautogui.press(\"down\")\n",
    "       pyautogui.press(\"enter\")  \n",
    "\n",
    "\n",
    "   def rolar_pagina(self, posicao):\n",
    "\n",
    "        if posicao in 'desce':\n",
    "            pyautogui.scroll(-5)  # scroll down 10 \"clicks\" desce\n",
    "\n",
    "        elif posicao in 'sobe':\n",
    "            pyautogui.scroll(5)   # scroll up 10 \"clicks\" sobe\n",
    "            \n",
    "        #pyautogui.scroll(10, x=100, y=100)  # move mouse cursor to 100, 200, then scroll up 10 \"clicks\"\n",
    "\n",
    "\n",
    "   def salvar_imagem(self, x, y):\n",
    "       pyautogui.alert('Salve seu arquivo no seu computador, na pasta que você deseja!')\n",
    "       self.clicar(x,y, botao='right')\n",
    "       # aguardar\n",
    "       self.aguardar()\n",
    "       pyautogui.press(\"down\")\n",
    "       pyautogui.press(\"down\")       \n",
    "       pyautogui.press(\"enter\")       \n",
    "    \n",
    "   def alertaInicial_computador(self):\n",
    "       pyautogui.alert('O código vai começar. Não mexa em NADA enquanto o código tiver rodando. Quando finalizar, eu te aviso')\n",
    "       self.aguardar()\n",
    "\n",
    "\n",
    "   def alertaFinal_computador(self):\n",
    "       pyautogui.alert('O código terminou, pode pegar seu notebook de volta!')\n",
    "       self.aguardar()\n"
   ]
  },
  {
   "cell_type": "code",
   "execution_count": 125,
   "id": "2ea5fbd4-43d0-4be1-a301-ed80b09b6288",
   "metadata": {},
   "outputs": [],
   "source": [
    "texto_pesquisa = 'Satellite NOAA'\n"
   ]
  },
  {
   "cell_type": "code",
   "execution_count": 126,
   "id": "51f8a16e-ae8f-4f56-982e-80e46ec1e11f",
   "metadata": {},
   "outputs": [
    {
     "name": "stdout",
     "output_type": "stream",
     "text": [
      "https://www.nhc.noaa.gov/satellite.php\n"
     ]
    }
   ],
   "source": [
    "robo = MeuRobo(3)\n",
    "\n",
    "#aviso do alerta\n",
    "robo.alertaInicial_computador()\n",
    "\n",
    "robo.abrir_programa('Chrome')\n",
    "link = \"https://www.google.com.br/\"\n",
    "robo.entrar_site(link)\n",
    "\n",
    "# clicando no campo de busca no google\n",
    "robo.clicar(460, 357)\n",
    "\n",
    "\n",
    "robo.pesquisar_no_campo(texto_pesquisa)\n",
    "# aguardarclasse\n",
    "robo.aguardar()\n",
    "#no outro site\n",
    "\n",
    "#posso completar com tab\n",
    "#extrai site de interesse\n",
    "robo.extrair_link(186, 446)\n",
    "robo.alertaFinal_computador()\n"
   ]
  },
  {
   "cell_type": "code",
   "execution_count": 127,
   "id": "892906fb-8322-4abe-9edd-c23a6353b9b2",
   "metadata": {},
   "outputs": [
    {
     "name": "stdout",
     "output_type": "stream",
     "text": [
      "site coletado\n",
      "https://www.nhc.noaa.gov/satellite.php\n"
     ]
    }
   ],
   "source": [
    "print('site coletado')\n",
    "print(robo.texto_final)"
   ]
  },
  {
   "cell_type": "code",
   "execution_count": 128,
   "id": "013acd8b-939b-4faf-8441-a079905c9009",
   "metadata": {},
   "outputs": [
    {
     "name": "stdout",
     "output_type": "stream",
     "text": [
      "https://www.nhc.noaa.gov/satellite.php\n"
     ]
    }
   ],
   "source": [
    "site_queroanalisar =robo.texto_final\n",
    "print(site_queroanalisar)"
   ]
  },
  {
   "cell_type": "markdown",
   "id": "33af1fbc-522b-4963-a30e-bf7baa914381",
   "metadata": {},
   "source": [
    "# salvar a imagem de satélite que desejo"
   ]
  },
  {
   "cell_type": "code",
   "execution_count": 132,
   "id": "20a5d0b9-e90e-4cec-9178-62b472019b2b",
   "metadata": {},
   "outputs": [
    {
     "name": "stdout",
     "output_type": "stream",
     "text": [
      "link de interesse do Caribe\n",
      "https://cdn.star.nesdis.noaa.gov/GOES16/ABI/SECTOR/car/GEOCOLOR/GOES16-CAR-GEOCOLOR-1000x1000.gif\n"
     ]
    }
   ],
   "source": [
    "robo = MeuRobo(3)\n",
    "\n",
    "#aviso do alerta\n",
    "robo.alertaInicial_computador()\n",
    "\n",
    "robo.abrir_programa('Chrome')\n",
    "robo.entrar_site(site_queroanalisar)\n",
    "\n",
    "robo.rolar_pagina('desce')\n",
    "\n",
    "#extrai site de interesse\n",
    "print('link de interesse do Caribe')\n",
    "robo.extrair_link(226, 559)\n",
    "\n",
    "robo.abrir_nova_aba(226, 559)\n",
    "# clicar na aba nova aberta \n",
    "robo.clicar(411, 49, botao='left')\n",
    "\n",
    "#'Salve seu arquivo no seu computador, na pasta que você deseja!\n",
    "robo.salvar_imagem(498, 463)\n",
    "\n",
    "# aguardarclasse\n",
    "robo.aguardar()\n",
    "\n",
    "robo.alertaFinal_computador()\n",
    "\n"
   ]
  },
  {
   "cell_type": "code",
   "execution_count": null,
   "id": "c54a958a-34ff-42c3-95e5-930b1ce34db6",
   "metadata": {},
   "outputs": [],
   "source": [
    "robo = MeuRobo(3)\n",
    "robo.pegar_posicao()"
   ]
  },
  {
   "cell_type": "code",
   "execution_count": null,
   "id": "e1788887-9a8d-4180-8b5d-09759bc3400d",
   "metadata": {},
   "outputs": [],
   "source": []
  }
 ],
 "metadata": {
  "kernelspec": {
   "display_name": "Python 3 (ipykernel)",
   "language": "python",
   "name": "python3"
  },
  "language_info": {
   "codemirror_mode": {
    "name": "ipython",
    "version": 3
   },
   "file_extension": ".py",
   "mimetype": "text/x-python",
   "name": "python",
   "nbconvert_exporter": "python",
   "pygments_lexer": "ipython3",
   "version": "3.11.9"
  }
 },
 "nbformat": 4,
 "nbformat_minor": 5
}
