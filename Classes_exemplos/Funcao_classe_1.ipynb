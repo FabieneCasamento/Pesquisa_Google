{
 "cells": [
  {
   "cell_type": "code",
   "execution_count": 1,
   "id": "798b6a3f-afd0-4417-86dd-8d4e2e8ca0aa",
   "metadata": {},
   "outputs": [
    {
     "name": "stdout",
     "output_type": "stream",
     "text": [
      "Vendas do vendedor Luiza:\n",
      "0\n",
      "Meta da venda 500 e o bonus 0.\n",
      "\n",
      "Vendas do vendedor Lucas:\n",
      "0\n",
      "Meta da venda 500 e o bonus 0.\n",
      "Quantidade da venda é de R$ 1,500.00 da vendedora Luiza\n",
      "Meta da venda 500 e o bonus 30.\n",
      "Quantidade da venda é de R$ 400.00 do vendedor Lucas\n",
      "Meta da venda 500 e o bonus 0.\n",
      "\n",
      "**********************************************************************\n",
      "Vendas da vendedora Luiza: R$ 5300\n",
      "Meta da venda R$ 500 e o seu bonus R$ 30.\n",
      "Vendas do vendedor Lucas: R$ 1300\n",
      "Meta da venda R$ 500 e o seu bonus R$ 30.\n"
     ]
    }
   ],
   "source": [
    "\n",
    "#from nomearquivo.py import nome da classe dentro do arquivo.py\n",
    "from Classe_vendas_1 import Vendedor\n",
    "\n",
    "vendedor1 = Vendedor('Luiza')\n",
    "print('Vendas do vendedor {}:'.format(vendedor1.nome))\n",
    "#nome . caracteristicas\n",
    "print(vendedor1.vendas)\n",
    "print('Meta da venda {} e o bonus {}.'.format(vendedor1.meta_venda, vendedor1.bonus))\n",
    "vendedor1.vendeu(1500)\n",
    "\n",
    "\n",
    "\n",
    "\n",
    "vendedor2 = Vendedor('Lucas')\n",
    "print()\n",
    "print('Vendas do vendedor {}:'.format(vendedor2.nome))\n",
    "#nome . caracteristicas\n",
    "print(vendedor2.vendas)\n",
    "print('Meta da venda {} e o bonus {}.'.format(vendedor2.meta_venda, vendedor2.bonus))\n",
    "vendedor2.vendeu(400)     \n",
    "\n",
    "\n",
    "print('Quantidade da venda é de R$ {:,.2f} da vendedora {}'.format(vendedor1.vendas, vendedor1.nome))\n",
    "#tem que chamar o calculo antes se não tivesse a chamada da função dentro da classe\n",
    "#vendedor1.calcular_bonus()\n",
    "print('Meta da venda {} e o bonus {}.'.format(vendedor1.meta_venda, vendedor1.bonus))\n",
    "\n",
    "print('Quantidade da venda é de R$ {:,.2f} do vendedor {}'.format(vendedor2.vendas, vendedor2.nome))\n",
    "#tem que chamar o calculo antes se não tivesse a chamada da função dentro da classe\n",
    "#vendedor2.calcular_bonus()\n",
    "print('Meta da venda {} e o bonus {}.'.format(vendedor2.meta_venda, vendedor2.bonus))\n",
    "\n",
    "print()\n",
    "print('*'*70)\n",
    "vendedor1 = Vendedor('Luiza')\n",
    "vendedor1.vendeu(5300)\n",
    "print('Vendas da vendedora {}: R$ {}'.format(vendedor1.nome, vendedor1.vendas))\n",
    "print('Meta da venda R$ {} e o seu bonus R$ {}.'.format(vendedor1.meta_venda, vendedor1.bonus))\n",
    "\n",
    "vendedor2 = Vendedor('Lucas')\n",
    "vendedor2.vendeu(1300)\n",
    "print('Vendas do vendedor {}: R$ {}'.format(vendedor2.nome, vendedor2.vendas))\n",
    "print('Meta da venda R$ {} e o seu bonus R$ {}.'.format(vendedor2.meta_venda, vendedor2.bonus))\n",
    "#nome . caracteristicas"
   ]
  },
  {
   "cell_type": "code",
   "execution_count": null,
   "id": "0c49f2f3-c5b9-4a54-8c51-459108b0288e",
   "metadata": {},
   "outputs": [],
   "source": []
  }
 ],
 "metadata": {
  "kernelspec": {
   "display_name": "Python 3 (ipykernel)",
   "language": "python",
   "name": "python3"
  },
  "language_info": {
   "codemirror_mode": {
    "name": "ipython",
    "version": 3
   },
   "file_extension": ".py",
   "mimetype": "text/x-python",
   "name": "python",
   "nbconvert_exporter": "python",
   "pygments_lexer": "ipython3",
   "version": "3.11.9"
  }
 },
 "nbformat": 4,
 "nbformat_minor": 5
}
